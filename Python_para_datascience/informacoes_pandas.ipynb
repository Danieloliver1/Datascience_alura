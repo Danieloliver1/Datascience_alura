{
 "cells": [
  {
   "cell_type": "markdown",
   "metadata": {},
   "source": [
    "1- ['API Reference (gratuito, inglês, texto)'](https://pandas.pydata.org/docs/reference/index.html)              \n",
    "Este é um recurso de referência de API para a biblioteca Pandas, em Python, fornecendo uma visão geral das funções e utilidades disponíveis. O Pandas é uma poderosa ferramenta para manipulação e análise de dados."
   ]
  },
  {
   "cell_type": "markdown",
   "metadata": {},
   "source": [
    "2- ['General functions (gratuito, inglês, texto)'](https://pandas.pydata.org/docs/reference/general_functions.html)           \n",
    "Este link fornece uma explicação detalhada sobre as funções gerais em Pandas, uma biblioteca Python para manipulação de dados. Ele fornece informações e descrições úteis para todas as funções, permitindo uma melhor compreensão do usuário."
   ]
  },
  {
   "cell_type": "markdown",
   "metadata": {},
   "source": [
    "3- ['GroupBy: split-apply-combine (gratuito, inglês, texto)'](https://pandas.pydata.org/docs/reference/groupby.html)      \n",
    "Aqui podemos encontrar uma explicação detalhada do processo de agrupamento em Pandas. O conteúdo é bastante técnico e detalhado, dividindo o processo em três etapas: dividir os dados, aplicar uma função e então combiná-los."
   ]
  },
  {
   "cell_type": "markdown",
   "metadata": {},
   "source": [
    "4- ['MultiIndex / advanced indexing (gratuito, inglês, texto)'](https://pandas.pydata.org/docs/user_guide/advanced.html#)            \n",
    "Este guia avançado fornece informações detalhadas sobre a indexação MultiIndex em Pandas. O conteúdo é indispensável para todos que desejam usar ao máximo essa poderosa biblioteca Python para análise de dados."
   ]
  },
  {
   "cell_type": "markdown",
   "metadata": {},
   "source": [
    "5- ['Wide and Long Data: What is wide format data? (gratuito, inglês, texto)'](https://www.theanalysisfactor.com/wide-and-long-data/)      \n",
    "Neste tutorial, você aprenderá a diferença entre os formatos de dados wide e long e verá exemplos que demonstram quando usar cada um. É uma leitura essencial para quem trabalha com análise de dados."
   ]
  },
  {
   "cell_type": "markdown",
   "metadata": {},
   "source": [
    "6- ['re — Regular expression operations (gratuito, inglês, texto)'](https://docs.python.org/3/library/re.html)      \n",
    "Este link contém informações sobre as operações de expressão regular em Python. As expressões regulares são uma ferramenta útil nas operações de manipulação de strings. Este recurso prova ser muito útil para todos que desejam aprender mais sobre o assunto."
   ]
  },
  {
   "cell_type": "markdown",
   "metadata": {},
   "source": [
    "7- ['Principais casos de uso de Regex para tratamento de dados (gratuito, português, texto)'](https://www.alura.com.br/artigos/principais-casos-uso-regex-para-tratamento-dados?_gl=1*18fb6cz*_ga*MTY0MTE4MDM4Ny4xNjkwOTQ1MDQy*_ga_1EPWSW3PCS*MTcwMzM3OTk2Mi4xNTQuMS4xNzAzMzc5OTY0LjAuMC4w*_fplc*NFNtd1FOMDJJdWpncVBKODU3YzBPTEklMkZOdGQ4cTFMOTJQTjY1bGklMkZ6RE1lU25NN3c1VTN6bkUlMkZzOUMwME9JWHNyS0l1ZDkyMSUyQnNDNnRoWXVSRjhqeWtjQmVQYWR3SDhaUkFjb3R3UmNjaVVqeGFGRHhZQnRQSG13Wnh0OUElM0QlM0Q.)                   \n",
    "Este conteúdo fornece uma introdução aos usos da expressão regular (Regex) no tratamento de dados. Com exemplos práticos, ele explica como usar Regex para melhorar a limpeza e a preparação de dados em seus projetos de análise de dados."
   ]
  }
 ],
 "metadata": {
  "language_info": {
   "name": "python"
  }
 },
 "nbformat": 4,
 "nbformat_minor": 2
}
