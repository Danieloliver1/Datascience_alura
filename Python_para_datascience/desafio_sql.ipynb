{
 "cells": [
  {
   "cell_type": "markdown",
   "metadata": {},
   "source": [
    "Chegou a hora de testar os conhecimentos desenvolvidos durante a aula.\n",
    "\n",
    "Você é responsável por criar um banco de dados local de clientes para uma instituição financeira. Temos o arquivo CSV com os dados de clientes.\n",
    "\n",
    "Sua missão é:\n",
    "\n",
    "Criar o banco de dados local com a biblioteca SQLAlchemy.                      \n",
    "Escrever os dados do arquivo CSV neste banco de dados local.                \n",
    "Realizar três atualizações no banco de dados:               \n",
    "Atualizar o registro do cliente de ID 6840104 que teve o rendimento anual alterado para 300000.              \n",
    "Excluir o registro do cliente de ID 5008809, pois essa pessoa não possui mais conta na instituição financeira.              \n",
    "Criar um novo registro de cliente seguindo as especificações abaixo:               \n",
    "ID_Cliente: 6850985                  \n",
    "Idade: 33               \n",
    "Grau_escolaridade: Doutorado                       \n",
    "Estado_civil: Solteiro               \n",
    "Tamanho_familia: 1              \n",
    "Categoria_de_renda: Empregado                   \n",
    "Ocupacao: TI                   \n",
    "Anos_empregado: 2                       \n",
    "Rendimento_anual: 290000                \n",
    "Tem_carro: 0                    \n",
    "Moradia: Casa/apartamento próprio                    \n",
    "Dica importante: Para adicionar um(a) novo(a) cliente à tabela, utilize a cláusula INSERT INTO seguida do nome da tabela e depois especifique entre parênteses os nomes das colunas da tabela. Utilize a cláusula VALUES e, em seguida, passe entre parênteses os novos valores para esse novo registro. Certifique-se de que os valores estejam na ordem correta e no formato adequado para cada coluna."
   ]
  },
  {
   "cell_type": "markdown",
   "metadata": {},
   "source": [
    "Vou usar o Microsoft SQL Server Management          \n",
    "nome do servidor: DANIEL"
   ]
  },
  {
   "cell_type": "code",
   "execution_count": 14,
   "metadata": {},
   "outputs": [],
   "source": [
    "from sqlalchemy.engine import URL\n",
    "import pandas as pd\n",
    "from sqlalchemy import create_engine, MetaData, Table, inspect"
   ]
  },
  {
   "cell_type": "code",
   "execution_count": 4,
   "metadata": {},
   "outputs": [],
   "source": [
    "# link do arquivo csv para salvar dentro do banco sql\n",
    "\n",
    "link = 'https://raw.githubusercontent.com/alura-cursos/Pandas/main/clientes_banco.csv'"
   ]
  },
  {
   "cell_type": "code",
   "execution_count": 27,
   "metadata": {},
   "outputs": [],
   "source": [
    "from sqlalchemy import create_engine\n",
    "\n",
    "# Substitua 'seu_host' e 'sua_base_de_dados' pelos seus próprios valores\n",
    "host = 'DANIEL'\n",
    "base_de_dados = 'CLIENTES_BANCO'\n",
    "\n",
    "# Formato da URL de conexão para o SQL Server com autenticação do Windows\n",
    "# 'mssql+pyodbc:///<dbname>?trusted_connection=yes&driver=ODBC+Driver+17+for+SQL+Server'\n",
    "url_conexao = f'mssql+pyodbc:///{base_de_dados}?trusted_connection=yes&driver=ODBC+Driver+17+for+SQL+Server'\n",
    "\n",
    "# Cria um objeto de engine usando a URL de conexão\n",
    "engine = create_engine(url_conexao)\n",
    "\n",
    "# Conecta ao banco de dados\n",
    "conexao = engine.connect()\n",
    "\n",
    "# Execute consultas SQL ou outras operações aqui\n",
    "\n",
    "# Feche a conexão quando terminar\n",
    "conexao.close()\n",
    "\n"
   ]
  },
  {
   "cell_type": "code",
   "execution_count": 20,
   "metadata": {},
   "outputs": [],
   "source": [
    "# passando dados csv para um dataframe\n",
    "dados = pd.read_csv(link)"
   ]
  },
  {
   "cell_type": "code",
   "execution_count": 33,
   "metadata": {},
   "outputs": [
    {
     "data": {
      "text/plain": [
       "-1"
      ]
     },
     "execution_count": 33,
     "metadata": {},
     "output_type": "execute_result"
    }
   ],
   "source": [
    "# salvando dados csv dentro do sql server\n",
    "dados.to_sql('Clientes_dados', engine, index=False)"
   ]
  },
  {
   "cell_type": "code",
   "execution_count": 35,
   "metadata": {},
   "outputs": [
    {
     "name": "stdout",
     "output_type": "stream",
     "text": [
      "['Clientes_dados', 'sysdiagrams']\n"
     ]
    }
   ],
   "source": [
    "# para visualizar os dados\n",
    "\n",
    "inspector = inspect(engine)\n",
    "# essa função devolve os nomes que tem dentro do banco de dados\n",
    "print(inspector.get_table_names())"
   ]
  },
  {
   "cell_type": "code",
   "execution_count": 36,
   "metadata": {},
   "outputs": [],
   "source": [
    "# pd.read_sql('Clientes_dados',engine)"
   ]
  },
  {
   "cell_type": "code",
   "execution_count": 44,
   "metadata": {},
   "outputs": [],
   "source": [
    "# fazendo consulta sql\n",
    "\n",
    "query =  'SELECT * FROM \"Clientes_dados\"'"
   ]
  },
  {
   "cell_type": "code",
   "execution_count": 45,
   "metadata": {},
   "outputs": [],
   "source": [
    "df_clientes = pd.read_sql(query,engine)"
   ]
  },
  {
   "cell_type": "code",
   "execution_count": 46,
   "metadata": {},
   "outputs": [
    {
     "data": {
      "text/plain": [
       "Index(['ID_Cliente', 'Idade', 'Grau_escolaridade', 'Estado_civil',\n",
       "       'Tamanho_familia', 'Categoria_de_renda', 'Ocupacao', 'Anos_empregado',\n",
       "       'Rendimento_anual', 'Tem_carro', 'Moradia'],\n",
       "      dtype='object')"
      ]
     },
     "execution_count": 46,
     "metadata": {},
     "output_type": "execute_result"
    }
   ],
   "source": [
    "df_clientes.columns"
   ]
  },
  {
   "cell_type": "code",
   "execution_count": 49,
   "metadata": {},
   "outputs": [
    {
     "data": {
      "text/html": [
       "<div>\n",
       "<style scoped>\n",
       "    .dataframe tbody tr th:only-of-type {\n",
       "        vertical-align: middle;\n",
       "    }\n",
       "\n",
       "    .dataframe tbody tr th {\n",
       "        vertical-align: top;\n",
       "    }\n",
       "\n",
       "    .dataframe thead th {\n",
       "        text-align: right;\n",
       "    }\n",
       "</style>\n",
       "<table border=\"1\" class=\"dataframe\">\n",
       "  <thead>\n",
       "    <tr style=\"text-align: right;\">\n",
       "      <th></th>\n",
       "      <th>ID_Cliente</th>\n",
       "      <th>Idade</th>\n",
       "      <th>Grau_escolaridade</th>\n",
       "      <th>Estado_civil</th>\n",
       "      <th>Tamanho_familia</th>\n",
       "      <th>Categoria_de_renda</th>\n",
       "      <th>Ocupacao</th>\n",
       "      <th>Anos_empregado</th>\n",
       "      <th>Rendimento_anual</th>\n",
       "      <th>Tem_carro</th>\n",
       "      <th>Moradia</th>\n",
       "    </tr>\n",
       "  </thead>\n",
       "  <tbody>\n",
       "    <tr>\n",
       "      <th>438458</th>\n",
       "      <td>6840104</td>\n",
       "      <td>62</td>\n",
       "      <td>Ensino médio</td>\n",
       "      <td>Divorciado</td>\n",
       "      <td>1</td>\n",
       "      <td>Pensionista</td>\n",
       "      <td>Outro</td>\n",
       "      <td>0</td>\n",
       "      <td>135000.0</td>\n",
       "      <td>0</td>\n",
       "      <td>Casa/apartamento próprio</td>\n",
       "    </tr>\n",
       "  </tbody>\n",
       "</table>\n",
       "</div>"
      ],
      "text/plain": [
       "        ID_Cliente  Idade Grau_escolaridade Estado_civil  Tamanho_familia  \\\n",
       "438458     6840104     62      Ensino médio   Divorciado                1   \n",
       "\n",
       "       Categoria_de_renda Ocupacao  Anos_empregado  Rendimento_anual  \\\n",
       "438458        Pensionista    Outro               0          135000.0   \n",
       "\n",
       "        Tem_carro                   Moradia  \n",
       "438458          0  Casa/apartamento próprio  "
      ]
     },
     "execution_count": 49,
     "metadata": {},
     "output_type": "execute_result"
    }
   ],
   "source": [
    "df_clientes.query('ID_Cliente==6840104')\n"
   ]
  },
  {
   "cell_type": "code",
   "execution_count": 50,
   "metadata": {},
   "outputs": [],
   "source": [
    "# atualizando dados dentro do sql \n",
    "query ='UPDATE Clientes_dados SET Rendimento_anual = 300000 WHERE  ID_Cliente = 6840104'\n",
    "# conecte para estabelecer uma conexão com o banco de dados\n",
    "with engine.connect() as conn:\n",
    "    conn.execute(query) "
   ]
  },
  {
   "cell_type": "code",
   "execution_count": 51,
   "metadata": {},
   "outputs": [],
   "source": [
    "# visualizando tabela\n",
    "ver = pd.read_sql_table('Clientes_dados',engine)"
   ]
  },
  {
   "cell_type": "code",
   "execution_count": 52,
   "metadata": {},
   "outputs": [
    {
     "data": {
      "text/html": [
       "<div>\n",
       "<style scoped>\n",
       "    .dataframe tbody tr th:only-of-type {\n",
       "        vertical-align: middle;\n",
       "    }\n",
       "\n",
       "    .dataframe tbody tr th {\n",
       "        vertical-align: top;\n",
       "    }\n",
       "\n",
       "    .dataframe thead th {\n",
       "        text-align: right;\n",
       "    }\n",
       "</style>\n",
       "<table border=\"1\" class=\"dataframe\">\n",
       "  <thead>\n",
       "    <tr style=\"text-align: right;\">\n",
       "      <th></th>\n",
       "      <th>ID_Cliente</th>\n",
       "      <th>Idade</th>\n",
       "      <th>Grau_escolaridade</th>\n",
       "      <th>Estado_civil</th>\n",
       "      <th>Tamanho_familia</th>\n",
       "      <th>Categoria_de_renda</th>\n",
       "      <th>Ocupacao</th>\n",
       "      <th>Anos_empregado</th>\n",
       "      <th>Rendimento_anual</th>\n",
       "      <th>Tem_carro</th>\n",
       "      <th>Moradia</th>\n",
       "    </tr>\n",
       "  </thead>\n",
       "  <tbody>\n",
       "    <tr>\n",
       "      <th>438458</th>\n",
       "      <td>6840104</td>\n",
       "      <td>62</td>\n",
       "      <td>Ensino médio</td>\n",
       "      <td>Divorciado</td>\n",
       "      <td>1</td>\n",
       "      <td>Pensionista</td>\n",
       "      <td>Outro</td>\n",
       "      <td>0</td>\n",
       "      <td>300000.0</td>\n",
       "      <td>0</td>\n",
       "      <td>Casa/apartamento próprio</td>\n",
       "    </tr>\n",
       "  </tbody>\n",
       "</table>\n",
       "</div>"
      ],
      "text/plain": [
       "        ID_Cliente  Idade Grau_escolaridade Estado_civil  Tamanho_familia  \\\n",
       "438458     6840104     62      Ensino médio   Divorciado                1   \n",
       "\n",
       "       Categoria_de_renda Ocupacao  Anos_empregado  Rendimento_anual  \\\n",
       "438458        Pensionista    Outro               0          300000.0   \n",
       "\n",
       "        Tem_carro                   Moradia  \n",
       "438458          0  Casa/apartamento próprio  "
      ]
     },
     "execution_count": 52,
     "metadata": {},
     "output_type": "execute_result"
    }
   ],
   "source": [
    "ver.query('ID_Cliente==6840104')"
   ]
  },
  {
   "cell_type": "code",
   "execution_count": 57,
   "metadata": {},
   "outputs": [],
   "source": [
    "# expluindo dados\n",
    "query=\"DELETE FROM Clientes_dados WHERE ID_Cliente=5008809\"\n",
    "# conecte para estabelecer uma conexão com o banco de dados\n",
    "with engine.connect() as conn:\n",
    "    conn.execute(query) "
   ]
  },
  {
   "cell_type": "code",
   "execution_count": 60,
   "metadata": {},
   "outputs": [],
   "source": [
    "#inserindo dados \n",
    "\n",
    "query = \"INSERT INTO Clientes_dados Values(6850985,33,'Doutorado','Solteiro',1,'Empregado','TI',2,290000,0,'Casa/apartamento próprio')\"\n",
    "# conecte para estabelecer uma conexão com o banco de dados\n",
    "with engine.connect() as conn:\n",
    "    conn.execute(query) \n"
   ]
  },
  {
   "cell_type": "code",
   "execution_count": 61,
   "metadata": {},
   "outputs": [],
   "source": [
    "# visualizando tabela\n",
    "ver = pd.read_sql_table('Clientes_dados',engine)"
   ]
  },
  {
   "cell_type": "code",
   "execution_count": 62,
   "metadata": {},
   "outputs": [
    {
     "data": {
      "text/html": [
       "<div>\n",
       "<style scoped>\n",
       "    .dataframe tbody tr th:only-of-type {\n",
       "        vertical-align: middle;\n",
       "    }\n",
       "\n",
       "    .dataframe tbody tr th {\n",
       "        vertical-align: top;\n",
       "    }\n",
       "\n",
       "    .dataframe thead th {\n",
       "        text-align: right;\n",
       "    }\n",
       "</style>\n",
       "<table border=\"1\" class=\"dataframe\">\n",
       "  <thead>\n",
       "    <tr style=\"text-align: right;\">\n",
       "      <th></th>\n",
       "      <th>ID_Cliente</th>\n",
       "      <th>Idade</th>\n",
       "      <th>Grau_escolaridade</th>\n",
       "      <th>Estado_civil</th>\n",
       "      <th>Tamanho_familia</th>\n",
       "      <th>Categoria_de_renda</th>\n",
       "      <th>Ocupacao</th>\n",
       "      <th>Anos_empregado</th>\n",
       "      <th>Rendimento_anual</th>\n",
       "      <th>Tem_carro</th>\n",
       "      <th>Moradia</th>\n",
       "    </tr>\n",
       "  </thead>\n",
       "  <tbody>\n",
       "    <tr>\n",
       "      <th>438462</th>\n",
       "      <td>6850985</td>\n",
       "      <td>33</td>\n",
       "      <td>Doutorado</td>\n",
       "      <td>Solteiro</td>\n",
       "      <td>1</td>\n",
       "      <td>Empregado</td>\n",
       "      <td>TI</td>\n",
       "      <td>2</td>\n",
       "      <td>290000.0</td>\n",
       "      <td>0</td>\n",
       "      <td>Casa/apartamento próprio</td>\n",
       "    </tr>\n",
       "  </tbody>\n",
       "</table>\n",
       "</div>"
      ],
      "text/plain": [
       "        ID_Cliente  Idade Grau_escolaridade Estado_civil  Tamanho_familia  \\\n",
       "438462     6850985     33         Doutorado     Solteiro                1   \n",
       "\n",
       "       Categoria_de_renda Ocupacao  Anos_empregado  Rendimento_anual  \\\n",
       "438462          Empregado       TI               2          290000.0   \n",
       "\n",
       "        Tem_carro                   Moradia  \n",
       "438462          0  Casa/apartamento próprio  "
      ]
     },
     "execution_count": 62,
     "metadata": {},
     "output_type": "execute_result"
    }
   ],
   "source": [
    "# visualizando tabela\n",
    "ver.query('ID_Cliente==6850985')"
   ]
  }
 ],
 "metadata": {
  "kernelspec": {
   "display_name": "Python 3 (ipykernel)",
   "language": "python",
   "name": "python3"
  },
  "language_info": {
   "codemirror_mode": {
    "name": "ipython",
    "version": 3
   },
   "file_extension": ".py",
   "mimetype": "text/x-python",
   "name": "python",
   "nbconvert_exporter": "python",
   "pygments_lexer": "ipython3",
   "version": "3.10.9"
  }
 },
 "nbformat": 4,
 "nbformat_minor": 2
}
