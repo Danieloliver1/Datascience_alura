{
 "cells": [
  {
   "cell_type": "code",
   "execution_count": 58,
   "id": "387fab31-e8df-40b3-80e2-7cc0ce5a2d0f",
   "metadata": {},
   "outputs": [],
   "source": [
    "import requests"
   ]
  },
  {
   "cell_type": "code",
   "execution_count": 59,
   "id": "b05c0fd2-9624-4c51-9153-c2e6b881014a",
   "metadata": {},
   "outputs": [],
   "source": [
    "url = 'http://127.0.0.1:5000/cotacao/'"
   ]
  },
  {
   "cell_type": "code",
   "execution_count": 60,
   "id": "541db12e-d4ea-406f-ac1a-ec7e4fd24236",
   "metadata": {},
   "outputs": [],
   "source": [
    "dados =  {\n",
    "    \"tamanho\": 120,\n",
    "    \"ano\":2001,\n",
    "    \"garagem\":2\n",
    "}"
   ]
  },
  {
   "cell_type": "code",
   "execution_count": 61,
   "id": "00ac71ea-d8de-4821-a81f-067407bb98e7",
   "metadata": {},
   "outputs": [],
   "source": [
    "auth  = requests.auth.HTTPBasicAuth('julio','alura')"
   ]
  },
  {
   "cell_type": "code",
   "execution_count": 66,
   "id": "197d3b42-bdb3-425e-8195-59db64d0a2d2",
   "metadata": {},
   "outputs": [],
   "source": [
    "response = requests.post(url, json = dados, auth = auth)"
   ]
  },
  {
   "cell_type": "code",
   "execution_count": 67,
   "id": "b39ea2d3-386a-4e85-949d-396bf0196b9f",
   "metadata": {},
   "outputs": [
    {
     "data": {
      "text/plain": [
       "200"
      ]
     },
     "execution_count": 67,
     "metadata": {},
     "output_type": "execute_result"
    }
   ],
   "source": [
    "response.status_code"
   ]
  },
  {
   "cell_type": "code",
   "execution_count": 68,
   "id": "af001acc-2bab-467c-9a4c-b243c28697fd",
   "metadata": {},
   "outputs": [
    {
     "data": {
      "text/plain": [
       "'{\\n  \"preco\": 191436.5350383143\\n}\\n'"
      ]
     },
     "execution_count": 68,
     "metadata": {},
     "output_type": "execute_result"
    }
   ],
   "source": [
    "response.text"
   ]
  },
  {
   "cell_type": "code",
   "execution_count": 69,
   "id": "9da6ac3e-8731-4b77-ad68-b4d36137867e",
   "metadata": {},
   "outputs": [
    {
     "data": {
      "text/plain": [
       "{'preco': 191436.5350383143}"
      ]
     },
     "execution_count": 69,
     "metadata": {},
     "output_type": "execute_result"
    }
   ],
   "source": [
    "response.json()"
   ]
  },
  {
   "cell_type": "code",
   "execution_count": null,
   "id": "05e84ac4-f9d5-4d39-b65b-e9e2b75141c9",
   "metadata": {},
   "outputs": [],
   "source": []
  },
  {
   "cell_type": "code",
   "execution_count": null,
   "id": "19f8a53e-f0a7-4782-a150-b017740b579e",
   "metadata": {},
   "outputs": [],
   "source": []
  }
 ],
 "metadata": {
  "kernelspec": {
   "display_name": "Python 3 (ipykernel)",
   "language": "python",
   "name": "python3"
  },
  "language_info": {
   "codemirror_mode": {
    "name": "ipython",
    "version": 3
   },
   "file_extension": ".py",
   "mimetype": "text/x-python",
   "name": "python",
   "nbconvert_exporter": "python",
   "pygments_lexer": "ipython3",
   "version": "3.12.4"
  }
 },
 "nbformat": 4,
 "nbformat_minor": 5
}
